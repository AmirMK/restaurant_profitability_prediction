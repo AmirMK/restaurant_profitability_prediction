{
 "cells": [
  {
   "cell_type": "code",
   "execution_count": 1,
   "id": "c2fe3283",
   "metadata": {},
   "outputs": [],
   "source": [
    "import numpy as np\n",
    "import pandas as pd\n",
    "\n",
    "\n",
    "from sklearn.preprocessing import OneHotEncoder\n",
    "from sklearn.preprocessing import StandardScaler\n",
    "from sklearn.impute import SimpleImputer\n",
    "from sklearn.compose import ColumnTransformer\n",
    "from sklearn.pipeline import Pipeline\n",
    "\n",
    "from sklearn.ensemble import RandomForestRegressor\n",
    "from sklearn.linear_model import Lasso\n",
    "from sklearn.neighbors import KNeighborsRegressor\n",
    "\n",
    "from sklearn.model_selection import GridSearchCV\n",
    "\n",
    "from tabpy.tabpy_tools.client import Client\n"
   ]
  },
  {
   "cell_type": "code",
   "execution_count": 2,
   "id": "a2b98035",
   "metadata": {},
   "outputs": [],
   "source": [
    "\n",
    "#Model selection function\n",
    "def regressor_selection(X,y, metric = 'r2'):    \n",
    "    pipe = Pipeline([('regressor' , RandomForestRegressor())])    \n",
    "    param_grid = ''\n",
    "    param = [        \n",
    "                \n",
    "        {'regressor' : [RandomForestRegressor()],\n",
    "        'regressor__n_estimators' : [100,200,500],\n",
    "        'regressor__max_depth' : list( range(5,25,5) ),\n",
    "        'regressor__min_samples_split' : list( range(4,12,2) )\n",
    "        },\n",
    "        \n",
    "        {'regressor' : [KNeighborsRegressor()],\n",
    "         'regressor__n_neighbors' : [5,10,20,30],\n",
    "         'regressor__p' : [1,2] \n",
    "        },\n",
    "        {\n",
    "         'regressor' : [Lasso(max_iter=500)],\n",
    "         'regressor__alpha' : [0.001,0.01,0.1,1,10,100,1000]         \n",
    "        }\n",
    "            ]\n",
    "    param_grid = param    \n",
    "    clf = GridSearchCV(pipe, param_grid = param_grid, \n",
    "                       cv = 5, n_jobs=-1,scoring = metric)    \n",
    "    best_clf = clf.fit(X, y)\n",
    "    \n",
    "    return(best_clf.best_params_['regressor'])\n",
    "\n"
   ]
  },
  {
   "cell_type": "code",
   "execution_count": 3,
   "id": "90693eb9",
   "metadata": {},
   "outputs": [],
   "source": [
    "#Reading Data\n",
    "url=  'Restaurant_Profitability_Training_Data.csv'\n",
    "df = pd.read_csv(url)\n",
    "\n",
    "Target = 'Profit'\n",
    "categorical_features = ['Area', 'Age', 'Type','Price Range','Capacity','Number of Menu Items']\n",
    "numerical_feature = []\n",
    "target = 'Profit'\n",
    "\n",
    "label=df[target]\n",
    "data= df[categorical_features+numerical_feature]\n",
    "\n",
    "\n",
    "\n",
    "#Data Preprocessing\n",
    "numeric_transformer = Pipeline(steps=[('imputer', SimpleImputer(strategy='median'))\n",
    "                                      ,('scaler', StandardScaler())])\n",
    "categorical_transformer = OneHotEncoder(categories='auto')\n",
    "\n",
    "encoder = ColumnTransformer(\n",
    "    transformers=[\n",
    "        ('numerical', numeric_transformer, numerical_feature),\n",
    "        ('categorical', categorical_transformer, categorical_features)])\n",
    "\n",
    "encoder.fit(data)\n",
    "\n",
    "#Model Building and Selection\n",
    "clf = regressor_selection(encoder.transform(data),label, metric = 'r2')\n",
    "model = clf.fit(encoder.transform(data),label)                \n"
   ]
  },
  {
   "cell_type": "code",
   "execution_count": 4,
   "id": "d4df710b",
   "metadata": {},
   "outputs": [],
   "source": [
    "#Wrapper function for prediction\n",
    "def Profitability_Prediction(Areas, Ages, Types, Price_Ranges, Capacities, Items):    \n",
    "    input_data = np.column_stack([Areas, Ages, Types, Price_Ranges, Capacities, Items])\n",
    "    X = pd.DataFrame(input_data,columns=['Area', 'Age', 'Type','Price Range','Capacity','Number of Menu Items'])\n",
    "    result = model.predict(encoder.transform(X))\n",
    "    return result.tolist()"
   ]
  },
  {
   "cell_type": "code",
   "execution_count": null,
   "id": "e88b2449",
   "metadata": {},
   "outputs": [],
   "source": [
    "#Model deployment\n",
    "client = Client('http://localhost:9004/')\n",
    "client.deploy('Restaurant_Profitability',\n",
    "              Profitability_Prediction,\n",
    "              'Returns prediction of profitability for restaurant(s).'\n",
    "              , override = True)"
   ]
  }
 ],
 "metadata": {
  "kernelspec": {
   "display_name": "Python 3 (ipykernel)",
   "language": "python",
   "name": "python3"
  },
  "language_info": {
   "codemirror_mode": {
    "name": "ipython",
    "version": 3
   },
   "file_extension": ".py",
   "mimetype": "text/x-python",
   "name": "python",
   "nbconvert_exporter": "python",
   "pygments_lexer": "ipython3",
   "version": "3.9.7"
  }
 },
 "nbformat": 4,
 "nbformat_minor": 5
}
